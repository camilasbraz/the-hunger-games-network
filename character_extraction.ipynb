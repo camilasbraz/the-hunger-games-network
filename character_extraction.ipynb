{
 "cells": [
  {
   "cell_type": "code",
   "execution_count": 10,
   "metadata": {},
   "outputs": [],
   "source": [
    "import time\n",
    "from selenium import webdriver\n",
    "from webdriver_manager.chrome import ChromeDriverManager\n",
    "from selenium.webdriver.common.by import By\n",
    "from selenium.webdriver.chrome.service import Service\n",
    "from selenium.webdriver.chrome.options import Options\n",
    "import os\n",
    "import logging\n",
    "import pandas as pd\n",
    "import matplotlib.pyplot as plt"
   ]
  },
  {
   "cell_type": "code",
   "execution_count": 31,
   "metadata": {},
   "outputs": [],
   "source": [
    "## Setup chrome options\n",
    "chrome_options = Options()\n",
    "chrome_options.add_argument(\"--headless\") # Ensure GUI is off\n",
    "chrome_options.add_argument(\"--no-sandbox\")\n",
    "\n",
    "# Silent download of drivers\n",
    "logging.getLogger('WDM').setLevel(logging.NOTSET)\n",
    "os.environ['WDM_LOG'] = 'False'\n",
    "\n",
    "# Create service\n",
    "webdriver_service = Service(ChromeDriverManager().install())\n",
    "\n",
    "# Create driver\n",
    "driver = webdriver.Chrome(service = webdriver_service, options = chrome_options)\n",
    "\n",
    "# Go to the characters in books page\n",
    "page_url = \"https://thehungergames.fandom.com/wiki/Category:Characters\"\n",
    "driver.get(page_url)\n",
    "\n",
    "# Click on Accept cookies\n",
    "time.sleep(3)\n",
    "driver.find_element(By.XPATH, '//div[text()=\"ACEITAR\"]').click()\n",
    "\n",
    "# Find books\n",
    "book_categories = driver.find_elements(by=By.CLASS_NAME, value='category-page__member-link')\n",
    "\n",
    "books = []\n",
    "for category in book_categories:\n",
    "    book_url = category.get_attribute('href')\n",
    "    book_name = category.text\n",
    "    books.append({'book_name': book_name, \"url\": book_url})"
   ]
  },
  {
   "cell_type": "code",
   "execution_count": 32,
   "metadata": {},
   "outputs": [
    {
     "data": {
      "text/plain": [
       "[{'book_name': 'Category:Catching Fire characters',\n",
       "  'url': 'https://thehungergames.fandom.com/wiki/Category:Catching_Fire_characters'},\n",
       " {'book_name': 'Category:Deceased characters',\n",
       "  'url': 'https://thehungergames.fandom.com/wiki/Category:Deceased_characters'},\n",
       " {'book_name': 'Category:Disabled characters',\n",
       "  'url': 'https://thehungergames.fandom.com/wiki/Category:Disabled_characters'},\n",
       " {'book_name': 'Category:District Heroes',\n",
       "  'url': 'https://thehungergames.fandom.com/wiki/Category:District_Heroes'},\n",
       " {'book_name': 'Category:Groups',\n",
       "  'url': 'https://thehungergames.fandom.com/wiki/Category:Groups'},\n",
       " {'book_name': 'Category:Individuals by gender',\n",
       "  'url': 'https://thehungergames.fandom.com/wiki/Category:Individuals_by_gender'},\n",
       " {'book_name': 'Category:Individuals by occupation',\n",
       "  'url': 'https://thehungergames.fandom.com/wiki/Category:Individuals_by_occupation'},\n",
       " {'book_name': 'Category:Individuals by residency',\n",
       "  'url': 'https://thehungergames.fandom.com/wiki/Category:Individuals_by_residency'},\n",
       " {'book_name': 'List of characters in The Hunger Games series',\n",
       "  'url': 'https://thehungergames.fandom.com/wiki/List_of_characters_in_The_Hunger_Games_series'},\n",
       " {'book_name': 'Category:Mockingjay characters',\n",
       "  'url': 'https://thehungergames.fandom.com/wiki/Category:Mockingjay_characters'},\n",
       " {'book_name': 'Category:Morphlings',\n",
       "  'url': 'https://thehungergames.fandom.com/wiki/Category:Morphlings'},\n",
       " {'book_name': 'Category:Presumed Deceased',\n",
       "  'url': 'https://thehungergames.fandom.com/wiki/Category:Presumed_Deceased'},\n",
       " {'book_name': 'Category:Rebels',\n",
       "  'url': 'https://thehungergames.fandom.com/wiki/Category:Rebels'},\n",
       " {'book_name': 'Category:The Ballad of Songbirds and Snakes characters',\n",
       "  'url': 'https://thehungergames.fandom.com/wiki/Category:The_Ballad_of_Songbirds_and_Snakes_characters'},\n",
       " {'book_name': 'Category:The Hunger Games characters',\n",
       "  'url': 'https://thehungergames.fandom.com/wiki/Category:The_Hunger_Games_characters'}]"
      ]
     },
     "execution_count": 32,
     "metadata": {},
     "output_type": "execute_result"
    }
   ],
   "source": [
    "books"
   ]
  },
  {
   "cell_type": "code",
   "execution_count": 33,
   "metadata": {},
   "outputs": [
    {
     "data": {
      "text/plain": [
       "[{'book_name': 'Category:Catching Fire characters',\n",
       "  'url': 'https://thehungergames.fandom.com/wiki/Category:Catching_Fire_characters'},\n",
       " {'book_name': 'Category:Mockingjay characters',\n",
       "  'url': 'https://thehungergames.fandom.com/wiki/Category:Mockingjay_characters'},\n",
       " {'book_name': 'Category:The Hunger Games characters',\n",
       "  'url': 'https://thehungergames.fandom.com/wiki/Category:The_Hunger_Games_characters'}]"
      ]
     },
     "execution_count": 33,
     "metadata": {},
     "output_type": "execute_result"
    }
   ],
   "source": [
    "select_list = ['Category:The Hunger Games characters', 'Category:Catching Fire characters', 'Category:Mockingjay characters']\n",
    "\n",
    "selected_dicts = []\n",
    "for d in books:\n",
    "    if d['book_name'] in select_list:\n",
    "        selected_dicts.append(d)\n",
    "\n",
    "books = selected_dicts\n",
    "books"
   ]
  },
  {
   "cell_type": "code",
   "execution_count": 34,
   "metadata": {},
   "outputs": [],
   "source": [
    "character_list = []\n",
    "\n",
    "for book in books:\n",
    "    # go to book page\n",
    "    driver.get(book['url'])\n",
    "    \n",
    "    character_elems = driver.find_elements(by=By.CLASS_NAME, value = 'category-page__member-link')\n",
    "    \n",
    "    for elem in character_elems:\n",
    "        character_list.append({'book': book['book_name'],'character': elem.text})"
   ]
  },
  {
   "cell_type": "code",
   "execution_count": 35,
   "metadata": {},
   "outputs": [
    {
     "data": {
      "text/html": [
       "<div>\n",
       "<style scoped>\n",
       "    .dataframe tbody tr th:only-of-type {\n",
       "        vertical-align: middle;\n",
       "    }\n",
       "\n",
       "    .dataframe tbody tr th {\n",
       "        vertical-align: top;\n",
       "    }\n",
       "\n",
       "    .dataframe thead th {\n",
       "        text-align: right;\n",
       "    }\n",
       "</style>\n",
       "<table border=\"1\" class=\"dataframe\">\n",
       "  <thead>\n",
       "    <tr style=\"text-align: right;\">\n",
       "      <th></th>\n",
       "      <th>book</th>\n",
       "      <th>character</th>\n",
       "    </tr>\n",
       "  </thead>\n",
       "  <tbody>\n",
       "    <tr>\n",
       "      <th>0</th>\n",
       "      <td>Category:Catching Fire characters</td>\n",
       "      <td>Haymitch Abernathy</td>\n",
       "    </tr>\n",
       "    <tr>\n",
       "      <th>1</th>\n",
       "      <td>Category:Catching Fire characters</td>\n",
       "      <td>Atala</td>\n",
       "    </tr>\n",
       "    <tr>\n",
       "      <th>2</th>\n",
       "      <td>Category:Catching Fire characters</td>\n",
       "      <td>Beetee Latier</td>\n",
       "    </tr>\n",
       "    <tr>\n",
       "      <th>3</th>\n",
       "      <td>Category:Catching Fire characters</td>\n",
       "      <td>Blight</td>\n",
       "    </tr>\n",
       "    <tr>\n",
       "      <th>4</th>\n",
       "      <td>Category:Catching Fire characters</td>\n",
       "      <td>Bonnie</td>\n",
       "    </tr>\n",
       "    <tr>\n",
       "      <th>...</th>\n",
       "      <td>...</td>\n",
       "      <td>...</td>\n",
       "    </tr>\n",
       "    <tr>\n",
       "      <th>171</th>\n",
       "      <td>Category:The Hunger Games characters</td>\n",
       "      <td>Category:Tributes in the 74th Hunger Games</td>\n",
       "    </tr>\n",
       "    <tr>\n",
       "      <th>172</th>\n",
       "      <td>Category:The Hunger Games characters</td>\n",
       "      <td>Effie Trinket</td>\n",
       "    </tr>\n",
       "    <tr>\n",
       "      <th>173</th>\n",
       "      <td>Category:The Hunger Games characters</td>\n",
       "      <td>Madge Undersee</td>\n",
       "    </tr>\n",
       "    <tr>\n",
       "      <th>174</th>\n",
       "      <td>Category:The Hunger Games characters</td>\n",
       "      <td>Mayor Undersee</td>\n",
       "    </tr>\n",
       "    <tr>\n",
       "      <th>175</th>\n",
       "      <td>Category:The Hunger Games characters</td>\n",
       "      <td>Venia</td>\n",
       "    </tr>\n",
       "  </tbody>\n",
       "</table>\n",
       "<p>176 rows × 2 columns</p>\n",
       "</div>"
      ],
      "text/plain": [
       "                                     book  \\\n",
       "0       Category:Catching Fire characters   \n",
       "1       Category:Catching Fire characters   \n",
       "2       Category:Catching Fire characters   \n",
       "3       Category:Catching Fire characters   \n",
       "4       Category:Catching Fire characters   \n",
       "..                                    ...   \n",
       "171  Category:The Hunger Games characters   \n",
       "172  Category:The Hunger Games characters   \n",
       "173  Category:The Hunger Games characters   \n",
       "174  Category:The Hunger Games characters   \n",
       "175  Category:The Hunger Games characters   \n",
       "\n",
       "                                      character  \n",
       "0                            Haymitch Abernathy  \n",
       "1                                         Atala  \n",
       "2                                 Beetee Latier  \n",
       "3                                        Blight  \n",
       "4                                        Bonnie  \n",
       "..                                          ...  \n",
       "171  Category:Tributes in the 74th Hunger Games  \n",
       "172                               Effie Trinket  \n",
       "173                              Madge Undersee  \n",
       "174                              Mayor Undersee  \n",
       "175                                       Venia  \n",
       "\n",
       "[176 rows x 2 columns]"
      ]
     },
     "execution_count": 35,
     "metadata": {},
     "output_type": "execute_result"
    }
   ],
   "source": [
    "pd.DataFrame(character_list)"
   ]
  },
  {
   "cell_type": "code",
   "execution_count": 36,
   "metadata": {},
   "outputs": [
    {
     "data": {
      "image/png": "[encoded data removed]",
      "text/plain": [
       "<Figure size 640x480 with 1 Axes>"
      ]
     },
     "metadata": {},
     "output_type": "display_data"
    }
   ],
   "source": [
    "character_df = pd.DataFrame(character_list)\n",
    "#df.to_csv('folder/subfolder/out.csv')  \n",
    "character_df.to_csv('characters.csv', index=False)\n",
    "\n",
    "character_df['book'].value_counts().plot(kind=\"bar\")\n",
    "plt.show()"
   ]
  }
 ],
 "metadata": {
  "kernelspec": {
   "display_name": "venv",
   "language": "python",
   "name": "python3"
  },
  "language_info": {
   "codemirror_mode": {
    "name": "ipython",
    "version": 3
   },
   "file_extension": ".py",
   "mimetype": "text/x-python",
   "name": "python",
   "nbconvert_exporter": "python",
   "pygments_lexer": "ipython3",
   "version": "3.11.3"
  },
  "orig_nbformat": 4
 },
 "nbformat": 4,
 "nbformat_minor": 2
}
